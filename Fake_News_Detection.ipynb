{
  "nbformat": 4,
  "nbformat_minor": 0,
  "metadata": {
    "colab": {
      "provenance": [],
      "authorship_tag": "ABX9TyMys0fyLsZrsKjyTd8vFUa5",
      "include_colab_link": true
    },
    "kernelspec": {
      "name": "python3",
      "display_name": "Python 3"
    },
    "language_info": {
      "name": "python"
    }
  },
  "cells": [
    {
      "cell_type": "markdown",
      "metadata": {
        "id": "view-in-github",
        "colab_type": "text"
      },
      "source": [
        "<a href=\"https://colab.research.google.com/github/alvarojbrz/fake-news-detection/blob/main/Fake_News_Detection.ipynb\" target=\"_parent\"><img src=\"https://colab.research.google.com/assets/colab-badge.svg\" alt=\"Open In Colab\"/></a>"
      ]
    },
    {
      "cell_type": "code",
      "execution_count": 72,
      "metadata": {
        "id": "g2Y_Pu9FTLUP"
      },
      "outputs": [],
      "source": [
        "import pandas as pd\n",
        "import numpy as np\n",
        "import os\n",
        "import kagglehub"
      ]
    },
    {
      "cell_type": "code",
      "source": [
        "# Download latest version\n",
        "path = kagglehub.dataset_download(\"khushikyad001/fake-news-detection\")\n",
        "\n",
        "print(\"Path to dataset files:\", path)"
      ],
      "metadata": {
        "colab": {
          "base_uri": "https://localhost:8080/"
        },
        "id": "3cjDZcawVj5F",
        "outputId": "dfdc6cdf-fc70-4295-dd63-860865dabbfc"
      },
      "execution_count": 73,
      "outputs": [
        {
          "output_type": "stream",
          "name": "stdout",
          "text": [
            "Path to dataset files: /kaggle/input/fake-news-detection\n"
          ]
        }
      ]
    },
    {
      "cell_type": "code",
      "source": [
        "# Lista todos os arquivos no diretório especificado\n",
        "files = os.listdir(path)\n",
        "print(files)  # Mostra os nomes dos arquivos disponíveis"
      ],
      "metadata": {
        "colab": {
          "base_uri": "https://localhost:8080/"
        },
        "id": "VMiAuhmJTPy_",
        "outputId": "7a75aaa2-efbc-46ea-c248-ae26c4bd44e6"
      },
      "execution_count": 74,
      "outputs": [
        {
          "output_type": "stream",
          "name": "stdout",
          "text": [
            "['fake_news_dataset.csv']\n"
          ]
        }
      ]
    },
    {
      "cell_type": "code",
      "source": [
        "# Importa o csv\n",
        "df = pd.read_csv(path + '/fake_news_dataset.csv')\n",
        "df.head()"
      ],
      "metadata": {
        "colab": {
          "base_uri": "https://localhost:8080/",
          "height": 863
        },
        "id": "xBGk6CgoTnqh",
        "outputId": "da9c13ef-a92e-4174-f35e-96003ffad3a5"
      },
      "execution_count": 75,
      "outputs": [
        {
          "output_type": "execute_result",
          "data": {
            "text/plain": [
              "   id            title        author  \\\n",
              "0   1  Breaking News 1    Jane Smith   \n",
              "1   2  Breaking News 2   Emily Davis   \n",
              "2   3  Breaking News 3      John Doe   \n",
              "3   4  Breaking News 4  Alex Johnson   \n",
              "4   5  Breaking News 5   Emily Davis   \n",
              "\n",
              "                                                text           state  \\\n",
              "0  This is the content of article 1. It contains ...       Tennessee   \n",
              "1  This is the content of article 2. It contains ...       Wisconsin   \n",
              "2  This is the content of article 3. It contains ...        Missouri   \n",
              "3  This is the content of article 4. It contains ...  North Carolina   \n",
              "4  This is the content of article 5. It contains ...      California   \n",
              "\n",
              "  date_published          source       category  sentiment_score  word_count  \\\n",
              "0     30-11-2021       The Onion  Entertainment            -0.22        1302   \n",
              "1     02-09-2021    The Guardian     Technology             0.92         322   \n",
              "2     13-04-2021  New York Times         Sports             0.25         228   \n",
              "3     08-03-2020             CNN         Sports             0.94         155   \n",
              "4     23-03-2022      Daily Mail     Technology            -0.01         962   \n",
              "\n",
              "   ...  num_shares  num_comments  political_bias  fact_check_rating  \\\n",
              "0  ...       47305           450          Center              FALSE   \n",
              "1  ...       39804           530            Left              Mixed   \n",
              "2  ...       45860           763          Center              Mixed   \n",
              "3  ...       34222           945          Center               TRUE   \n",
              "4  ...       35934           433           Right              Mixed   \n",
              "\n",
              "   is_satirical  trust_score source_reputation clickbait_score  \\\n",
              "0             1           76                 6            0.84   \n",
              "1             1            1                 5            0.85   \n",
              "2             0           57                 1            0.72   \n",
              "3             1           18                10            0.92   \n",
              "4             0           95                 6            0.66   \n",
              "\n",
              "   plagiarism_score  label  \n",
              "0             53.35   Fake  \n",
              "1             28.28   Fake  \n",
              "2              0.38   Fake  \n",
              "3             32.20   Fake  \n",
              "4             77.70   Real  \n",
              "\n",
              "[5 rows x 24 columns]"
            ],
            "text/html": [
              "\n",
              "  <div id=\"df-0e45ed9e-4175-4d8b-a319-0f2b5dbac0d7\" class=\"colab-df-container\">\n",
              "    <div>\n",
              "<style scoped>\n",
              "    .dataframe tbody tr th:only-of-type {\n",
              "        vertical-align: middle;\n",
              "    }\n",
              "\n",
              "    .dataframe tbody tr th {\n",
              "        vertical-align: top;\n",
              "    }\n",
              "\n",
              "    .dataframe thead th {\n",
              "        text-align: right;\n",
              "    }\n",
              "</style>\n",
              "<table border=\"1\" class=\"dataframe\">\n",
              "  <thead>\n",
              "    <tr style=\"text-align: right;\">\n",
              "      <th></th>\n",
              "      <th>id</th>\n",
              "      <th>title</th>\n",
              "      <th>author</th>\n",
              "      <th>text</th>\n",
              "      <th>state</th>\n",
              "      <th>date_published</th>\n",
              "      <th>source</th>\n",
              "      <th>category</th>\n",
              "      <th>sentiment_score</th>\n",
              "      <th>word_count</th>\n",
              "      <th>...</th>\n",
              "      <th>num_shares</th>\n",
              "      <th>num_comments</th>\n",
              "      <th>political_bias</th>\n",
              "      <th>fact_check_rating</th>\n",
              "      <th>is_satirical</th>\n",
              "      <th>trust_score</th>\n",
              "      <th>source_reputation</th>\n",
              "      <th>clickbait_score</th>\n",
              "      <th>plagiarism_score</th>\n",
              "      <th>label</th>\n",
              "    </tr>\n",
              "  </thead>\n",
              "  <tbody>\n",
              "    <tr>\n",
              "      <th>0</th>\n",
              "      <td>1</td>\n",
              "      <td>Breaking News 1</td>\n",
              "      <td>Jane Smith</td>\n",
              "      <td>This is the content of article 1. It contains ...</td>\n",
              "      <td>Tennessee</td>\n",
              "      <td>30-11-2021</td>\n",
              "      <td>The Onion</td>\n",
              "      <td>Entertainment</td>\n",
              "      <td>-0.22</td>\n",
              "      <td>1302</td>\n",
              "      <td>...</td>\n",
              "      <td>47305</td>\n",
              "      <td>450</td>\n",
              "      <td>Center</td>\n",
              "      <td>FALSE</td>\n",
              "      <td>1</td>\n",
              "      <td>76</td>\n",
              "      <td>6</td>\n",
              "      <td>0.84</td>\n",
              "      <td>53.35</td>\n",
              "      <td>Fake</td>\n",
              "    </tr>\n",
              "    <tr>\n",
              "      <th>1</th>\n",
              "      <td>2</td>\n",
              "      <td>Breaking News 2</td>\n",
              "      <td>Emily Davis</td>\n",
              "      <td>This is the content of article 2. It contains ...</td>\n",
              "      <td>Wisconsin</td>\n",
              "      <td>02-09-2021</td>\n",
              "      <td>The Guardian</td>\n",
              "      <td>Technology</td>\n",
              "      <td>0.92</td>\n",
              "      <td>322</td>\n",
              "      <td>...</td>\n",
              "      <td>39804</td>\n",
              "      <td>530</td>\n",
              "      <td>Left</td>\n",
              "      <td>Mixed</td>\n",
              "      <td>1</td>\n",
              "      <td>1</td>\n",
              "      <td>5</td>\n",
              "      <td>0.85</td>\n",
              "      <td>28.28</td>\n",
              "      <td>Fake</td>\n",
              "    </tr>\n",
              "    <tr>\n",
              "      <th>2</th>\n",
              "      <td>3</td>\n",
              "      <td>Breaking News 3</td>\n",
              "      <td>John Doe</td>\n",
              "      <td>This is the content of article 3. It contains ...</td>\n",
              "      <td>Missouri</td>\n",
              "      <td>13-04-2021</td>\n",
              "      <td>New York Times</td>\n",
              "      <td>Sports</td>\n",
              "      <td>0.25</td>\n",
              "      <td>228</td>\n",
              "      <td>...</td>\n",
              "      <td>45860</td>\n",
              "      <td>763</td>\n",
              "      <td>Center</td>\n",
              "      <td>Mixed</td>\n",
              "      <td>0</td>\n",
              "      <td>57</td>\n",
              "      <td>1</td>\n",
              "      <td>0.72</td>\n",
              "      <td>0.38</td>\n",
              "      <td>Fake</td>\n",
              "    </tr>\n",
              "    <tr>\n",
              "      <th>3</th>\n",
              "      <td>4</td>\n",
              "      <td>Breaking News 4</td>\n",
              "      <td>Alex Johnson</td>\n",
              "      <td>This is the content of article 4. It contains ...</td>\n",
              "      <td>North Carolina</td>\n",
              "      <td>08-03-2020</td>\n",
              "      <td>CNN</td>\n",
              "      <td>Sports</td>\n",
              "      <td>0.94</td>\n",
              "      <td>155</td>\n",
              "      <td>...</td>\n",
              "      <td>34222</td>\n",
              "      <td>945</td>\n",
              "      <td>Center</td>\n",
              "      <td>TRUE</td>\n",
              "      <td>1</td>\n",
              "      <td>18</td>\n",
              "      <td>10</td>\n",
              "      <td>0.92</td>\n",
              "      <td>32.20</td>\n",
              "      <td>Fake</td>\n",
              "    </tr>\n",
              "    <tr>\n",
              "      <th>4</th>\n",
              "      <td>5</td>\n",
              "      <td>Breaking News 5</td>\n",
              "      <td>Emily Davis</td>\n",
              "      <td>This is the content of article 5. It contains ...</td>\n",
              "      <td>California</td>\n",
              "      <td>23-03-2022</td>\n",
              "      <td>Daily Mail</td>\n",
              "      <td>Technology</td>\n",
              "      <td>-0.01</td>\n",
              "      <td>962</td>\n",
              "      <td>...</td>\n",
              "      <td>35934</td>\n",
              "      <td>433</td>\n",
              "      <td>Right</td>\n",
              "      <td>Mixed</td>\n",
              "      <td>0</td>\n",
              "      <td>95</td>\n",
              "      <td>6</td>\n",
              "      <td>0.66</td>\n",
              "      <td>77.70</td>\n",
              "      <td>Real</td>\n",
              "    </tr>\n",
              "  </tbody>\n",
              "</table>\n",
              "<p>5 rows × 24 columns</p>\n",
              "</div>\n",
              "    <div class=\"colab-df-buttons\">\n",
              "\n",
              "  <div class=\"colab-df-container\">\n",
              "    <button class=\"colab-df-convert\" onclick=\"convertToInteractive('df-0e45ed9e-4175-4d8b-a319-0f2b5dbac0d7')\"\n",
              "            title=\"Convert this dataframe to an interactive table.\"\n",
              "            style=\"display:none;\">\n",
              "\n",
              "  <svg xmlns=\"http://www.w3.org/2000/svg\" height=\"24px\" viewBox=\"0 -960 960 960\">\n",
              "    <path d=\"M120-120v-720h720v720H120Zm60-500h600v-160H180v160Zm220 220h160v-160H400v160Zm0 220h160v-160H400v160ZM180-400h160v-160H180v160Zm440 0h160v-160H620v160ZM180-180h160v-160H180v160Zm440 0h160v-160H620v160Z\"/>\n",
              "  </svg>\n",
              "    </button>\n",
              "\n",
              "  <style>\n",
              "    .colab-df-container {\n",
              "      display:flex;\n",
              "      gap: 12px;\n",
              "    }\n",
              "\n",
              "    .colab-df-convert {\n",
              "      background-color: #E8F0FE;\n",
              "      border: none;\n",
              "      border-radius: 50%;\n",
              "      cursor: pointer;\n",
              "      display: none;\n",
              "      fill: #1967D2;\n",
              "      height: 32px;\n",
              "      padding: 0 0 0 0;\n",
              "      width: 32px;\n",
              "    }\n",
              "\n",
              "    .colab-df-convert:hover {\n",
              "      background-color: #E2EBFA;\n",
              "      box-shadow: 0px 1px 2px rgba(60, 64, 67, 0.3), 0px 1px 3px 1px rgba(60, 64, 67, 0.15);\n",
              "      fill: #174EA6;\n",
              "    }\n",
              "\n",
              "    .colab-df-buttons div {\n",
              "      margin-bottom: 4px;\n",
              "    }\n",
              "\n",
              "    [theme=dark] .colab-df-convert {\n",
              "      background-color: #3B4455;\n",
              "      fill: #D2E3FC;\n",
              "    }\n",
              "\n",
              "    [theme=dark] .colab-df-convert:hover {\n",
              "      background-color: #434B5C;\n",
              "      box-shadow: 0px 1px 3px 1px rgba(0, 0, 0, 0.15);\n",
              "      filter: drop-shadow(0px 1px 2px rgba(0, 0, 0, 0.3));\n",
              "      fill: #FFFFFF;\n",
              "    }\n",
              "  </style>\n",
              "\n",
              "    <script>\n",
              "      const buttonEl =\n",
              "        document.querySelector('#df-0e45ed9e-4175-4d8b-a319-0f2b5dbac0d7 button.colab-df-convert');\n",
              "      buttonEl.style.display =\n",
              "        google.colab.kernel.accessAllowed ? 'block' : 'none';\n",
              "\n",
              "      async function convertToInteractive(key) {\n",
              "        const element = document.querySelector('#df-0e45ed9e-4175-4d8b-a319-0f2b5dbac0d7');\n",
              "        const dataTable =\n",
              "          await google.colab.kernel.invokeFunction('convertToInteractive',\n",
              "                                                    [key], {});\n",
              "        if (!dataTable) return;\n",
              "\n",
              "        const docLinkHtml = 'Like what you see? Visit the ' +\n",
              "          '<a target=\"_blank\" href=https://colab.research.google.com/notebooks/data_table.ipynb>data table notebook</a>'\n",
              "          + ' to learn more about interactive tables.';\n",
              "        element.innerHTML = '';\n",
              "        dataTable['output_type'] = 'display_data';\n",
              "        await google.colab.output.renderOutput(dataTable, element);\n",
              "        const docLink = document.createElement('div');\n",
              "        docLink.innerHTML = docLinkHtml;\n",
              "        element.appendChild(docLink);\n",
              "      }\n",
              "    </script>\n",
              "  </div>\n",
              "\n",
              "\n",
              "<div id=\"df-a93f5e96-0f43-477d-a259-2c066c55026e\">\n",
              "  <button class=\"colab-df-quickchart\" onclick=\"quickchart('df-a93f5e96-0f43-477d-a259-2c066c55026e')\"\n",
              "            title=\"Suggest charts\"\n",
              "            style=\"display:none;\">\n",
              "\n",
              "<svg xmlns=\"http://www.w3.org/2000/svg\" height=\"24px\"viewBox=\"0 0 24 24\"\n",
              "     width=\"24px\">\n",
              "    <g>\n",
              "        <path d=\"M19 3H5c-1.1 0-2 .9-2 2v14c0 1.1.9 2 2 2h14c1.1 0 2-.9 2-2V5c0-1.1-.9-2-2-2zM9 17H7v-7h2v7zm4 0h-2V7h2v10zm4 0h-2v-4h2v4z\"/>\n",
              "    </g>\n",
              "</svg>\n",
              "  </button>\n",
              "\n",
              "<style>\n",
              "  .colab-df-quickchart {\n",
              "      --bg-color: #E8F0FE;\n",
              "      --fill-color: #1967D2;\n",
              "      --hover-bg-color: #E2EBFA;\n",
              "      --hover-fill-color: #174EA6;\n",
              "      --disabled-fill-color: #AAA;\n",
              "      --disabled-bg-color: #DDD;\n",
              "  }\n",
              "\n",
              "  [theme=dark] .colab-df-quickchart {\n",
              "      --bg-color: #3B4455;\n",
              "      --fill-color: #D2E3FC;\n",
              "      --hover-bg-color: #434B5C;\n",
              "      --hover-fill-color: #FFFFFF;\n",
              "      --disabled-bg-color: #3B4455;\n",
              "      --disabled-fill-color: #666;\n",
              "  }\n",
              "\n",
              "  .colab-df-quickchart {\n",
              "    background-color: var(--bg-color);\n",
              "    border: none;\n",
              "    border-radius: 50%;\n",
              "    cursor: pointer;\n",
              "    display: none;\n",
              "    fill: var(--fill-color);\n",
              "    height: 32px;\n",
              "    padding: 0;\n",
              "    width: 32px;\n",
              "  }\n",
              "\n",
              "  .colab-df-quickchart:hover {\n",
              "    background-color: var(--hover-bg-color);\n",
              "    box-shadow: 0 1px 2px rgba(60, 64, 67, 0.3), 0 1px 3px 1px rgba(60, 64, 67, 0.15);\n",
              "    fill: var(--button-hover-fill-color);\n",
              "  }\n",
              "\n",
              "  .colab-df-quickchart-complete:disabled,\n",
              "  .colab-df-quickchart-complete:disabled:hover {\n",
              "    background-color: var(--disabled-bg-color);\n",
              "    fill: var(--disabled-fill-color);\n",
              "    box-shadow: none;\n",
              "  }\n",
              "\n",
              "  .colab-df-spinner {\n",
              "    border: 2px solid var(--fill-color);\n",
              "    border-color: transparent;\n",
              "    border-bottom-color: var(--fill-color);\n",
              "    animation:\n",
              "      spin 1s steps(1) infinite;\n",
              "  }\n",
              "\n",
              "  @keyframes spin {\n",
              "    0% {\n",
              "      border-color: transparent;\n",
              "      border-bottom-color: var(--fill-color);\n",
              "      border-left-color: var(--fill-color);\n",
              "    }\n",
              "    20% {\n",
              "      border-color: transparent;\n",
              "      border-left-color: var(--fill-color);\n",
              "      border-top-color: var(--fill-color);\n",
              "    }\n",
              "    30% {\n",
              "      border-color: transparent;\n",
              "      border-left-color: var(--fill-color);\n",
              "      border-top-color: var(--fill-color);\n",
              "      border-right-color: var(--fill-color);\n",
              "    }\n",
              "    40% {\n",
              "      border-color: transparent;\n",
              "      border-right-color: var(--fill-color);\n",
              "      border-top-color: var(--fill-color);\n",
              "    }\n",
              "    60% {\n",
              "      border-color: transparent;\n",
              "      border-right-color: var(--fill-color);\n",
              "    }\n",
              "    80% {\n",
              "      border-color: transparent;\n",
              "      border-right-color: var(--fill-color);\n",
              "      border-bottom-color: var(--fill-color);\n",
              "    }\n",
              "    90% {\n",
              "      border-color: transparent;\n",
              "      border-bottom-color: var(--fill-color);\n",
              "    }\n",
              "  }\n",
              "</style>\n",
              "\n",
              "  <script>\n",
              "    async function quickchart(key) {\n",
              "      const quickchartButtonEl =\n",
              "        document.querySelector('#' + key + ' button');\n",
              "      quickchartButtonEl.disabled = true;  // To prevent multiple clicks.\n",
              "      quickchartButtonEl.classList.add('colab-df-spinner');\n",
              "      try {\n",
              "        const charts = await google.colab.kernel.invokeFunction(\n",
              "            'suggestCharts', [key], {});\n",
              "      } catch (error) {\n",
              "        console.error('Error during call to suggestCharts:', error);\n",
              "      }\n",
              "      quickchartButtonEl.classList.remove('colab-df-spinner');\n",
              "      quickchartButtonEl.classList.add('colab-df-quickchart-complete');\n",
              "    }\n",
              "    (() => {\n",
              "      let quickchartButtonEl =\n",
              "        document.querySelector('#df-a93f5e96-0f43-477d-a259-2c066c55026e button');\n",
              "      quickchartButtonEl.style.display =\n",
              "        google.colab.kernel.accessAllowed ? 'block' : 'none';\n",
              "    })();\n",
              "  </script>\n",
              "</div>\n",
              "\n",
              "    </div>\n",
              "  </div>\n"
            ],
            "application/vnd.google.colaboratory.intrinsic+json": {
              "type": "dataframe",
              "variable_name": "df"
            }
          },
          "metadata": {},
          "execution_count": 75
        }
      ]
    },
    {
      "cell_type": "code",
      "source": [
        "print(df.columns)"
      ],
      "metadata": {
        "colab": {
          "base_uri": "https://localhost:8080/"
        },
        "id": "4CuD_2CzVuB2",
        "outputId": "b888e8bc-8b2a-43b5-93c4-4b893dccb867"
      },
      "execution_count": 76,
      "outputs": [
        {
          "output_type": "stream",
          "name": "stdout",
          "text": [
            "Index(['id', 'title', 'author', 'text', 'state', 'date_published', 'source',\n",
            "       'category', 'sentiment_score', 'word_count', 'char_count', 'has_images',\n",
            "       'has_videos', 'readability_score', 'num_shares', 'num_comments',\n",
            "       'political_bias', 'fact_check_rating', 'is_satirical', 'trust_score',\n",
            "       'source_reputation', 'clickbait_score', 'plagiarism_score', 'label'],\n",
            "      dtype='object')\n"
          ]
        }
      ]
    },
    {
      "cell_type": "markdown",
      "source": [
        "## 1. Qual a correlação entre a pontuação de clickbait e o número de compartilhamentos?"
      ],
      "metadata": {
        "id": "wmxYu70oYjNd"
      }
    },
    {
      "cell_type": "code",
      "source": [
        "print(df['num_shares'].corr(df['clickbait_score']))"
      ],
      "metadata": {
        "colab": {
          "base_uri": "https://localhost:8080/"
        },
        "id": "o9tVpFe_Wm1m",
        "outputId": "6afba365-2d13-46e6-c6d5-3927714acb20"
      },
      "execution_count": 77,
      "outputs": [
        {
          "output_type": "stream",
          "name": "stdout",
          "text": [
            "0.002441819105146928\n"
          ]
        }
      ]
    },
    {
      "cell_type": "markdown",
      "source": [
        "Baixa correlação entre as variáveis."
      ],
      "metadata": {
        "id": "ZlGwg1Knoh9T"
      }
    },
    {
      "cell_type": "markdown",
      "source": [
        "## 2. Qual a distribuição média do número de palavras para a categoria Health e Sports?\n"
      ],
      "metadata": {
        "id": "zVTK13yuYgNl"
      }
    },
    {
      "cell_type": "markdown",
      "source": [
        "### Contando a quantidade média e mediana de palavras na coluna 'text' para a categoria Health"
      ],
      "metadata": {
        "id": "Zp5IBjIBvWZR"
      }
    },
    {
      "cell_type": "code",
      "source": [
        "df_health = df[df['category']=='Health']\n",
        "stats_health = df_health['word_count'].agg([np.mean, np.median])\n",
        "print(stats_health)"
      ],
      "metadata": {
        "colab": {
          "base_uri": "https://localhost:8080/"
        },
        "id": "TT6WleCCYdiY",
        "outputId": "d8ef015d-f40a-4eee-edc1-d2e036c2d83b"
      },
      "execution_count": 78,
      "outputs": [
        {
          "output_type": "stream",
          "name": "stdout",
          "text": [
            "mean      827.469065\n",
            "median    831.000000\n",
            "Name: word_count, dtype: float64\n"
          ]
        },
        {
          "output_type": "stream",
          "name": "stderr",
          "text": [
            "<ipython-input-78-a83f59836473>:2: FutureWarning: The provided callable <function mean at 0x7b152e7f1440> is currently using Series.mean. In a future version of pandas, the provided callable will be used directly. To keep current behavior pass the string \"mean\" instead.\n",
            "  stats_health = df_health['word_count'].agg([np.mean, np.median])\n",
            "<ipython-input-78-a83f59836473>:2: FutureWarning: The provided callable <function median at 0x7b152b526ac0> is currently using Series.median. In a future version of pandas, the provided callable will be used directly. To keep current behavior pass the string \"median\" instead.\n",
            "  stats_health = df_health['word_count'].agg([np.mean, np.median])\n"
          ]
        }
      ]
    },
    {
      "cell_type": "markdown",
      "source": [
        "### Contando a quantidade média e mediana de palavras na coluna 'text' para a categoria Sports"
      ],
      "metadata": {
        "id": "fpL8aIvfvUBC"
      }
    },
    {
      "cell_type": "code",
      "source": [
        "df_sports = df[df['category']=='Sports']\n",
        "stats_sports = df_sports['word_count'].agg([np.mean, np.median])\n",
        "print(stats_sports)"
      ],
      "metadata": {
        "colab": {
          "base_uri": "https://localhost:8080/"
        },
        "id": "dzKvFmSnmBEt",
        "outputId": "97c383e0-61c0-4c9a-e35f-cfae5d0ad0c8"
      },
      "execution_count": 79,
      "outputs": [
        {
          "output_type": "stream",
          "name": "stdout",
          "text": [
            "mean      790.597826\n",
            "median    798.500000\n",
            "Name: word_count, dtype: float64\n"
          ]
        },
        {
          "output_type": "stream",
          "name": "stderr",
          "text": [
            "<ipython-input-79-e4069dd565d2>:2: FutureWarning: The provided callable <function mean at 0x7b152e7f1440> is currently using Series.mean. In a future version of pandas, the provided callable will be used directly. To keep current behavior pass the string \"mean\" instead.\n",
            "  stats_sports = df_sports['word_count'].agg([np.mean, np.median])\n",
            "<ipython-input-79-e4069dd565d2>:2: FutureWarning: The provided callable <function median at 0x7b152b526ac0> is currently using Series.median. In a future version of pandas, the provided callable will be used directly. To keep current behavior pass the string \"median\" instead.\n",
            "  stats_sports = df_sports['word_count'].agg([np.mean, np.median])\n"
          ]
        }
      ]
    },
    {
      "cell_type": "markdown",
      "source": [
        "## 3. Quais são as três fontes mais confiáveis, considerando **`trust_score`**, **`source_reputation`** e **`fact_check_rating`**?"
      ],
      "metadata": {
        "id": "zTRZBDXOv4B3"
      }
    },
    {
      "cell_type": "code",
      "source": [
        "sources = df.sort_values(by=['trust_score', 'source_reputation', 'fact_check_rating'], ascending=False)['source'].head(3)\n",
        "print(sources)"
      ],
      "metadata": {
        "colab": {
          "base_uri": "https://localhost:8080/"
        },
        "id": "FnrVeNsqvJfa",
        "outputId": "4f070da2-2aa4-4991-fb9a-19b115ff3875"
      },
      "execution_count": 71,
      "outputs": [
        {
          "output_type": "stream",
          "name": "stdout",
          "text": [
            "1883          Snopes\n",
            "1415    The Guardian\n",
            "1047        Fox News\n",
            "Name: source, dtype: object\n"
          ]
        }
      ]
    }
  ]
}